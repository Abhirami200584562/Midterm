{
 "cells": [
  {
   "cell_type": "markdown",
   "id": "6587c957",
   "metadata": {},
   "source": [
    "# Question 23"
   ]
  },
  {
   "cell_type": "code",
   "execution_count": 13,
   "id": "9454bfbd",
   "metadata": {},
   "outputs": [],
   "source": [
    "def tough(indent, s):\n",
    "    if(s > 0):\n",
    "        tough(indent, s//2);\n",
    "        print(\" \"*indent + \"*\"*s);\n",
    "        tough(indent + s//2, s//2); \n"
   ]
  },
  {
   "cell_type": "code",
   "execution_count": 14,
   "id": "c4e9723c",
   "metadata": {},
   "outputs": [
    {
     "name": "stdout",
     "output_type": "stream",
     "text": [
      "Testing tough(0, 0):\n",
      "\n"
     ]
    }
   ],
   "source": [
    "print(\"Testing tough(0, 0):\")\n",
    "tough(0, 0)\n",
    "print()"
   ]
  },
  {
   "cell_type": "code",
   "execution_count": 15,
   "id": "c091a9b7",
   "metadata": {},
   "outputs": [
    {
     "name": "stdout",
     "output_type": "stream",
     "text": [
      "Testing tough(0, 1):\n",
      "*\n",
      "\n"
     ]
    }
   ],
   "source": [
    "print(\"Testing tough(0, 1):\")\n",
    "tough(0, 1)\n",
    "print()\n"
   ]
  },
  {
   "cell_type": "code",
   "execution_count": 16,
   "id": "e20eddb7",
   "metadata": {},
   "outputs": [
    {
     "name": "stdout",
     "output_type": "stream",
     "text": [
      "Testing tough(0, 2):\n",
      "*\n",
      "**\n",
      " *\n",
      "\n"
     ]
    }
   ],
   "source": [
    "print(\"Testing tough(0, 2):\")\n",
    "tough(0, 2)\n",
    "print()"
   ]
  },
  {
   "cell_type": "code",
   "execution_count": 17,
   "id": "699a3f0f",
   "metadata": {},
   "outputs": [
    {
     "name": "stdout",
     "output_type": "stream",
     "text": [
      "Testing tough(0, 4):\n",
      "*\n",
      "**\n",
      " *\n",
      "****\n",
      "  *\n",
      "  **\n",
      "   *\n"
     ]
    }
   ],
   "source": [
    "print(\"Testing tough(0, 4):\")\n",
    "tough(0, 4)"
   ]
  },
  {
   "cell_type": "code",
   "execution_count": null,
   "id": "e2c2a86a",
   "metadata": {},
   "outputs": [],
   "source": []
  }
 ],
 "metadata": {
  "kernelspec": {
   "display_name": "Python 3 (ipykernel)",
   "language": "python",
   "name": "python3"
  },
  "language_info": {
   "codemirror_mode": {
    "name": "ipython",
    "version": 3
   },
   "file_extension": ".py",
   "mimetype": "text/x-python",
   "name": "python",
   "nbconvert_exporter": "python",
   "pygments_lexer": "ipython3",
   "version": "3.10.9"
  }
 },
 "nbformat": 4,
 "nbformat_minor": 5
}
